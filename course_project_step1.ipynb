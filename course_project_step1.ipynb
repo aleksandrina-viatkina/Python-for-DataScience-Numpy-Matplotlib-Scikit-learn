{
 "cells": [
  {
   "cell_type": "markdown",
   "metadata": {},
   "source": [
    "# Курсовой проект"
   ]
  },
  {
   "cell_type": "markdown",
   "metadata": {},
   "source": [
    "### Загрузка библиотек"
   ]
  },
  {
   "cell_type": "code",
   "execution_count": 2,
   "metadata": {},
   "outputs": [],
   "source": [
    "import pandas as pd"
   ]
  },
  {
   "cell_type": "markdown",
   "metadata": {},
   "source": [
    "### Загрузка данных"
   ]
  },
  {
   "cell_type": "code",
   "execution_count": 3,
   "metadata": {},
   "outputs": [
    {
     "name": "stdout",
     "output_type": "stream",
     "text": [
      "Data is loaded!\n"
     ]
    }
   ],
   "source": [
    "df_train = pd.read_csv('train.csv')\n",
    "#test = pd.read_csv('test.csv')\n",
    "print('Data is loaded!')"
   ]
  },
  {
   "cell_type": "markdown",
   "metadata": {},
   "source": [
    "### Описание данных"
   ]
  },
  {
   "cell_type": "markdown",
   "metadata": {},
   "source": [
    "* **User_ID** - идентификационный номер покупателя\n",
    "* **Product_ID** - идентификационный номер товара\n",
    "* **Gender** - пол покупателя\n",
    "* **Age** - возраст покупателя\n",
    "* **Occupation** - род деятельности покупателя\n",
    "* **City_Category** - город проживания\n",
    "* **Stay_In_Current_City_Years** - как долго покупатель живет в этом городе\n",
    "* **Marital_Status** - семейное положение покупателя\n",
    "* **Product_Category_1** - категория товара 1\n",
    "* **Product_Category_2** - категория товара 2\n",
    "* **Product_Category_3** - категория товара 3\n",
    "* **Purchase** - сумма покупок"
   ]
  },
  {
   "cell_type": "code",
   "execution_count": 4,
   "metadata": {},
   "outputs": [
    {
     "name": "stdout",
     "output_type": "stream",
     "text": [
      "Train: 80000 строк и 12 признаков\n"
     ]
    }
   ],
   "source": [
    "print(f'Train: {df_train.shape[0]} строк и {df_train.shape[1]} признаков')"
   ]
  },
  {
   "cell_type": "code",
   "execution_count": 5,
   "metadata": {},
   "outputs": [
    {
     "data": {
      "text/plain": [
       "Index(['User_ID', 'Product_ID', 'Gender', 'Age', 'Occupation', 'City_Category',\n",
       "       'Stay_In_Current_City_Years', 'Marital_Status', 'Product_Category_1',\n",
       "       'Product_Category_2', 'Product_Category_3', 'Purchase'],\n",
       "      dtype='object')"
      ]
     },
     "execution_count": 5,
     "metadata": {},
     "output_type": "execute_result"
    }
   ],
   "source": [
    "df_train.columns"
   ]
  },
  {
   "cell_type": "code",
   "execution_count": 6,
   "metadata": {},
   "outputs": [
    {
     "data": {
      "text/plain": [
       "User_ID                         int64\n",
       "Product_ID                     object\n",
       "Gender                         object\n",
       "Age                            object\n",
       "Occupation                      int64\n",
       "City_Category                  object\n",
       "Stay_In_Current_City_Years     object\n",
       "Marital_Status                  int64\n",
       "Product_Category_1              int64\n",
       "Product_Category_2            float64\n",
       "Product_Category_3            float64\n",
       "Purchase                        int64\n",
       "dtype: object"
      ]
     },
     "execution_count": 6,
     "metadata": {},
     "output_type": "execute_result"
    }
   ],
   "source": [
    "df_train.dtypes"
   ]
  },
  {
   "cell_type": "markdown",
   "metadata": {},
   "source": [
    "### Изучение признаков"
   ]
  },
  {
   "cell_type": "markdown",
   "metadata": {},
   "source": [
    "Большинство признаков в этом датасете являются категориальными. Начнем обработку с них\n",
    "\n",
    "*Часто в категориальных признаках нецелесообразно вычислять минимум и максимум, т.к. значения признака обознают категорию приндлежности покупателя а не какую-то величину*"
   ]
  },
  {
   "cell_type": "markdown",
   "metadata": {},
   "source": [
    "#### Gender"
   ]
  },
  {
   "cell_type": "code",
   "execution_count": 16,
   "metadata": {},
   "outputs": [
    {
     "data": {
      "text/plain": [
       "M    60068\n",
       "F    19932\n",
       "Name: Gender, dtype: int64"
      ]
     },
     "execution_count": 16,
     "metadata": {},
     "output_type": "execute_result"
    }
   ],
   "source": [
    "df_train['Gender'].value_counts()"
   ]
  },
  {
   "cell_type": "markdown",
   "metadata": {},
   "source": [
    "Количество покупателей мужчин почти в 3 раза превосходит количество покупателей женщин\n",
    "Если при изучении значимости признаков окажется, что пол оказывает большое влияние на целевую переменную, необходимо с осторожностью обрабатывать спрос покупателей-женщин, т.к. их доля существенно меньше и ошибки будут иметь бОльший вес"
   ]
  },
  {
   "cell_type": "markdown",
   "metadata": {},
   "source": [
    "#### Age"
   ]
  },
  {
   "cell_type": "markdown",
   "metadata": {},
   "source": [
    "В данном признаке целесообразно определить минимум и максимум для понимания диапазона взраста покупателей"
   ]
  },
  {
   "cell_type": "code",
   "execution_count": 33,
   "metadata": {},
   "outputs": [
    {
     "data": {
      "text/plain": [
       "'0-17'"
      ]
     },
     "execution_count": 33,
     "metadata": {},
     "output_type": "execute_result"
    }
   ],
   "source": [
    "df_train['Age'].min()"
   ]
  },
  {
   "cell_type": "code",
   "execution_count": 8,
   "metadata": {},
   "outputs": [
    {
     "data": {
      "text/plain": [
       "'55+'"
      ]
     },
     "execution_count": 8,
     "metadata": {},
     "output_type": "execute_result"
    }
   ],
   "source": [
    "df_train['Age'].max()"
   ]
  },
  {
   "cell_type": "code",
   "execution_count": 63,
   "metadata": {},
   "outputs": [
    {
     "data": {
      "text/plain": [
       "7"
      ]
     },
     "execution_count": 63,
     "metadata": {},
     "output_type": "execute_result"
    }
   ],
   "source": [
    "# Определим количество возрастных групп в наблюдениях:\n",
    "df_train['Age'].nunique()"
   ]
  },
  {
   "cell_type": "code",
   "execution_count": 64,
   "metadata": {},
   "outputs": [
    {
     "data": {
      "text/plain": [
       "26-35    32067\n",
       "36-45    16025\n",
       "18-25    14286\n",
       "46-50     6777\n",
       "51-55     5555\n",
       "55+       3110\n",
       "0-17      2180\n",
       "Name: Age, dtype: int64"
      ]
     },
     "execution_count": 64,
     "metadata": {},
     "output_type": "execute_result"
    }
   ],
   "source": [
    "# Посмотрим заброс покупателей по возрастным группам:\n",
    "df_train['Age'].value_counts()"
   ]
  },
  {
   "cell_type": "markdown",
   "metadata": {},
   "source": [
    "Наибольшее количество покупок приходится на возрастную группу 26-35 лет. Можно предположить, что опираясь именно на этот возраст, можно выявить основные тендеции\n",
    "Самые низкие показатели у покупателей до 18 лет и у покупателей старше 55.\n",
    "\n",
    "Можно допустить, что небольшая доля покупок у покупалетей до 18 лет связана с ограничениями на площадке продажи"
   ]
  },
  {
   "cell_type": "code",
   "execution_count": 81,
   "metadata": {},
   "outputs": [
    {
     "data": {
      "text/plain": [
       "Age    Gender\n",
       "0-17   F           779\n",
       "       M          1401\n",
       "18-25  F          3634\n",
       "       M         10652\n",
       "26-35  F          7526\n",
       "       M         24541\n",
       "36-45  F          3943\n",
       "       M         12082\n",
       "46-50  F          1917\n",
       "       M          4860\n",
       "51-55  F          1393\n",
       "       M          4162\n",
       "55+    F           740\n",
       "       M          2370\n",
       "Name: User_ID, dtype: int64"
      ]
     },
     "execution_count": 81,
     "metadata": {},
     "output_type": "execute_result"
    }
   ],
   "source": [
    "#Изучим соотношение мужчин и жещин в каждой возрастной группе\n",
    "df_train.groupby(['Age', 'Gender'])['User_ID'].count()"
   ]
  },
  {
   "cell_type": "markdown",
   "metadata": {},
   "source": [
    "Более всего бросается в глаза разница в группе 26-35 лет и старше 55 лет"
   ]
  },
  {
   "cell_type": "markdown",
   "metadata": {},
   "source": [
    "#### Occupation"
   ]
  },
  {
   "cell_type": "code",
   "execution_count": 48,
   "metadata": {},
   "outputs": [
    {
     "data": {
      "text/plain": [
       "array([ 6,  7,  3,  0,  4,  1, 20, 18, 14, 17, 16, 10, 12,  2, 15, 19,  9,\n",
       "       13,  5, 11,  8])"
      ]
     },
     "execution_count": 48,
     "metadata": {},
     "output_type": "execute_result"
    }
   ],
   "source": [
    "df_train['Occupation'].unique()"
   ]
  },
  {
   "cell_type": "code",
   "execution_count": 49,
   "metadata": {},
   "outputs": [
    {
     "data": {
      "text/plain": [
       "21"
      ]
     },
     "execution_count": 49,
     "metadata": {},
     "output_type": "execute_result"
    }
   ],
   "source": [
    "df_train['Occupation'].nunique()"
   ]
  },
  {
   "cell_type": "code",
   "execution_count": 39,
   "metadata": {},
   "outputs": [
    {
     "data": {
      "text/plain": [
       "4     10443\n",
       "0     10188\n",
       "7      8474\n",
       "1      6921\n",
       "17     5815\n",
       "20     4887\n",
       "12     4559\n",
       "14     4030\n",
       "2      3849\n",
       "16     3724\n",
       "6      2902\n",
       "3      2598\n",
       "10     1876\n",
       "5      1824\n",
       "15     1712\n",
       "11     1706\n",
       "19     1258\n",
       "13     1132\n",
       "18     1011\n",
       "9       857\n",
       "8       234\n",
       "Name: Occupation, dtype: int64"
      ]
     },
     "execution_count": 39,
     "metadata": {},
     "output_type": "execute_result"
    }
   ],
   "source": [
    "df_train['Occupation'].value_counts()"
   ]
  },
  {
   "cell_type": "markdown",
   "metadata": {},
   "source": [
    "Видимо от 0 - 20  - это коды сфер деятельности покупателей\n",
    "Наиболее распространенные виды деятельностис кодами 4 и 0, наименее - 9 и 8\n",
    "В остальном распределение примерно равномерное"
   ]
  },
  {
   "cell_type": "markdown",
   "metadata": {},
   "source": [
    "#### City_Category"
   ]
  },
  {
   "cell_type": "code",
   "execution_count": 41,
   "metadata": {},
   "outputs": [
    {
     "data": {
      "text/plain": [
       "B    33767\n",
       "C    24778\n",
       "A    21455\n",
       "Name: City_Category, dtype: int64"
      ]
     },
     "execution_count": 41,
     "metadata": {},
     "output_type": "execute_result"
    }
   ],
   "source": [
    "df_train['City_Category'].value_counts()"
   ]
  },
  {
   "cell_type": "markdown",
   "metadata": {},
   "source": [
    "Изучаются покупатели из трех городов. Распределение можно назвать равномерным"
   ]
  },
  {
   "cell_type": "markdown",
   "metadata": {},
   "source": [
    "#### Stay_In_Current_City_Years "
   ]
  },
  {
   "cell_type": "code",
   "execution_count": 43,
   "metadata": {},
   "outputs": [
    {
     "data": {
      "text/plain": [
       "1     28287\n",
       "2     14830\n",
       "3     13853\n",
       "4+    12250\n",
       "0     10780\n",
       "Name: Stay_In_Current_City_Years, dtype: int64"
      ]
     },
     "execution_count": 43,
     "metadata": {},
     "output_type": "execute_result"
    }
   ],
   "source": [
    "df_train['Stay_In_Current_City_Years'].value_counts()"
   ]
  },
  {
   "cell_type": "markdown",
   "metadata": {},
   "source": [
    "Большинство изучаемых покупателей проживают в стране относительно недавно - 1 год.\n",
    "Наименьшая часть - новоприбывшие и те, кто проживают длительно\n",
    "Можно сделать вывод, что покупки в основном совершают те, кто переехал недавно"
   ]
  },
  {
   "cell_type": "markdown",
   "metadata": {},
   "source": [
    "#### Marital_Status  "
   ]
  },
  {
   "cell_type": "code",
   "execution_count": 44,
   "metadata": {},
   "outputs": [
    {
     "data": {
      "text/plain": [
       "0    47249\n",
       "1    32751\n",
       "Name: Marital_Status, dtype: int64"
      ]
     },
     "execution_count": 44,
     "metadata": {},
     "output_type": "execute_result"
    }
   ],
   "source": [
    "df_train['Marital_Status'].value_counts()"
   ]
  },
  {
   "cell_type": "markdown",
   "metadata": {},
   "source": [
    "Сильного разброса между людьми,  находящимися в браке и не в браке нет. "
   ]
  },
  {
   "cell_type": "code",
   "execution_count": 82,
   "metadata": {},
   "outputs": [
    {
     "data": {
      "text/plain": [
       "Age    Marital_Status\n",
       "0-17   0                  2180\n",
       "18-25  0                 11234\n",
       "       1                  3052\n",
       "26-35  0                 19572\n",
       "       1                 12495\n",
       "36-45  0                  9695\n",
       "       1                  6330\n",
       "46-50  0                  1871\n",
       "       1                  4906\n",
       "51-55  0                  1581\n",
       "       1                  3974\n",
       "55+    0                  1116\n",
       "       1                  1994\n",
       "Name: User_ID, dtype: int64"
      ]
     },
     "execution_count": 82,
     "metadata": {},
     "output_type": "execute_result"
    }
   ],
   "source": [
    "df_train.groupby(['Age', 'Marital_Status'])['User_ID'].count()"
   ]
  },
  {
   "cell_type": "markdown",
   "metadata": {},
   "source": [
    "В группах до 45 лет большинство покупок делают люди, не находящиеся в браке и с каждой группой разница сокращается. \n",
    "После 46 лет доля покупателей в браке существенно превышает долю неженатых. Вероятно, в данном регионе достаточно поздний возраст вступления в брак\n",
    "\n",
    "До 18 лет вступивших в брак нет - выбросов в данном случае не обнаружено"
   ]
  },
  {
   "cell_type": "markdown",
   "metadata": {},
   "source": [
    "#### Признаки Product_Category_1, 2 и 3 "
   ]
  },
  {
   "cell_type": "code",
   "execution_count": 51,
   "metadata": {},
   "outputs": [
    {
     "data": {
      "text/plain": [
       "array([ 8,  5,  1,  2,  6, 11,  3,  4,  7, 18, 15, 20, 10, 16, 13, 12, 19,\n",
       "       14,  9, 17])"
      ]
     },
     "execution_count": 51,
     "metadata": {},
     "output_type": "execute_result"
    }
   ],
   "source": [
    "df_train['Product_Category_1'].unique()"
   ]
  },
  {
   "cell_type": "code",
   "execution_count": 53,
   "metadata": {},
   "outputs": [
    {
     "data": {
      "text/plain": [
       "20"
      ]
     },
     "execution_count": 53,
     "metadata": {},
     "output_type": "execute_result"
    }
   ],
   "source": [
    "df_train['Product_Category_1'].nunique()"
   ]
  },
  {
   "cell_type": "code",
   "execution_count": 54,
   "metadata": {},
   "outputs": [
    {
     "data": {
      "text/plain": [
       "array([14.,  6., 15., 12., nan,  5.,  8., 17., 13., 16., 10., 11.,  2.,\n",
       "        4.,  9., 18.,  3.,  7.])"
      ]
     },
     "execution_count": 54,
     "metadata": {},
     "output_type": "execute_result"
    }
   ],
   "source": [
    "df_train['Product_Category_2'].unique()"
   ]
  },
  {
   "cell_type": "code",
   "execution_count": 55,
   "metadata": {},
   "outputs": [
    {
     "data": {
      "text/plain": [
       "17"
      ]
     },
     "execution_count": 55,
     "metadata": {},
     "output_type": "execute_result"
    }
   ],
   "source": [
    "df_train['Product_Category_2'].nunique()"
   ]
  },
  {
   "cell_type": "code",
   "execution_count": 59,
   "metadata": {},
   "outputs": [
    {
     "data": {
      "text/plain": [
       "array([nan, 16., 15., 17., 13.,  8., 12.,  5., 18.,  9., 14.,  6.,  3.,\n",
       "       11., 10.,  4.])"
      ]
     },
     "execution_count": 59,
     "metadata": {},
     "output_type": "execute_result"
    }
   ],
   "source": [
    "df_train['Product_Category_3'].unique()"
   ]
  },
  {
   "cell_type": "code",
   "execution_count": 60,
   "metadata": {},
   "outputs": [
    {
     "data": {
      "text/plain": [
       "15"
      ]
     },
     "execution_count": 60,
     "metadata": {},
     "output_type": "execute_result"
    }
   ],
   "source": [
    "df_train['Product_Category_3'].nunique()"
   ]
  },
  {
   "cell_type": "markdown",
   "metadata": {},
   "source": [
    "Наибольшее количество позиций в Product_Category_1.\n",
    "В Product_Category 2 и 3 одно из значений - nan.\n",
    "Дополнительно поработаем с ним при обработке пропусков"
   ]
  },
  {
   "cell_type": "markdown",
   "metadata": {},
   "source": [
    "### Обработка пропусков"
   ]
  },
  {
   "cell_type": "code",
   "execution_count": 65,
   "metadata": {},
   "outputs": [
    {
     "data": {
      "text/plain": [
       "User_ID                           0\n",
       "Product_ID                        0\n",
       "Gender                            0\n",
       "Age                               0\n",
       "Occupation                        0\n",
       "City_Category                     0\n",
       "Stay_In_Current_City_Years        0\n",
       "Marital_Status                    0\n",
       "Product_Category_1                0\n",
       "Product_Category_2            25108\n",
       "Product_Category_3            55669\n",
       "Purchase                          0\n",
       "dtype: int64"
      ]
     },
     "execution_count": 65,
     "metadata": {},
     "output_type": "execute_result"
    }
   ],
   "source": [
    "df_train.isnull().sum()"
   ]
  },
  {
   "cell_type": "markdown",
   "metadata": {},
   "source": [
    "Изучим дополнительно признаки Product_Category_2 & 3, содержащие большое количество пропусков"
   ]
  },
  {
   "cell_type": "markdown",
   "metadata": {},
   "source": [
    "#### Product_Category_2"
   ]
  },
  {
   "cell_type": "code",
   "execution_count": 67,
   "metadata": {},
   "outputs": [
    {
     "data": {
      "text/plain": [
       "8.0     9351\n",
       "14.0    8050\n",
       "2.0     7062\n",
       "16.0    6355\n",
       "15.0    5487\n",
       "5.0     3880\n",
       "4.0     3823\n",
       "6.0     2427\n",
       "11.0    2077\n",
       "17.0    1937\n",
       "13.0    1535\n",
       "12.0     799\n",
       "9.0      784\n",
       "10.0     460\n",
       "18.0     400\n",
       "3.0      378\n",
       "7.0       87\n",
       "Name: Product_Category_2, dtype: int64"
      ]
     },
     "execution_count": 67,
     "metadata": {},
     "output_type": "execute_result"
    }
   ],
   "source": [
    "df_train['Product_Category_2'].value_counts()"
   ]
  },
  {
   "cell_type": "code",
   "execution_count": 83,
   "metadata": {},
   "outputs": [
    {
     "data": {
      "text/plain": [
       "25108"
      ]
     },
     "execution_count": 83,
     "metadata": {},
     "output_type": "execute_result"
    }
   ],
   "source": [
    "df_train['Product_Category_2'].isnull().sum()"
   ]
  },
  {
   "cell_type": "markdown",
   "metadata": {},
   "source": [
    "В связи с большим количеством пропусков, наиболее удачным вариантом было бы их заполнить с помощью модели на основе признаков с хорошей корреляцией без пропущенных значений\n",
    "Предположительно, этот вариант заполнения будет наиболее удачным в данном случае, нежели заполнять медианой или средним"
   ]
  },
  {
   "cell_type": "markdown",
   "metadata": {},
   "source": [
    "#### Product_Category_3"
   ]
  },
  {
   "cell_type": "code",
   "execution_count": 69,
   "metadata": {},
   "outputs": [
    {
     "data": {
      "text/plain": [
       "16.0    4724\n",
       "15.0    4084\n",
       "14.0    2697\n",
       "17.0    2425\n",
       "5.0     2386\n",
       "8.0     1805\n",
       "9.0     1755\n",
       "12.0    1403\n",
       "13.0     794\n",
       "6.0      725\n",
       "18.0     689\n",
       "11.0     257\n",
       "4.0      253\n",
       "10.0     241\n",
       "3.0       93\n",
       "Name: Product_Category_3, dtype: int64"
      ]
     },
     "execution_count": 69,
     "metadata": {},
     "output_type": "execute_result"
    }
   ],
   "source": [
    "df_train['Product_Category_3'].value_counts()"
   ]
  },
  {
   "cell_type": "code",
   "execution_count": 70,
   "metadata": {},
   "outputs": [
    {
     "data": {
      "text/plain": [
       "55669"
      ]
     },
     "execution_count": 70,
     "metadata": {},
     "output_type": "execute_result"
    }
   ],
   "source": [
    "df_train['Product_Category_3'].isnull().sum()"
   ]
  },
  {
   "cell_type": "markdown",
   "metadata": {},
   "source": [
    "Позднее при изучении корреляции признаков, будет яснее. Пропущенных значений более 50%. Если его корреляция с целевой переменной низкая, можно рассмотреть вариант - пренебречь этим признаком\n",
    "Возможно, это даст лучший результат нежели заполнять такое количество значений, что необязательно может оказаться точным"
   ]
  },
  {
   "cell_type": "code",
   "execution_count": null,
   "metadata": {},
   "outputs": [],
   "source": []
  }
 ],
 "metadata": {
  "kernelspec": {
   "display_name": "Python 3",
   "language": "python",
   "name": "python3"
  },
  "language_info": {
   "codemirror_mode": {
    "name": "ipython",
    "version": 3
   },
   "file_extension": ".py",
   "mimetype": "text/x-python",
   "name": "python",
   "nbconvert_exporter": "python",
   "pygments_lexer": "ipython3",
   "version": "3.8.5"
  }
 },
 "nbformat": 4,
 "nbformat_minor": 4
}
